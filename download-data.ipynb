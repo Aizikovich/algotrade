{
 "cells": [
  {
   "cell_type": "code",
   "outputs": [],
   "source": [
    "import yfinance as yf\n",
    "from datetime import datetime\n",
    "# from tsfresh import extract_features"
   ],
   "metadata": {
    "collapsed": false,
    "ExecuteTime": {
     "end_time": "2024-07-10T12:00:48.096773500Z",
     "start_time": "2024-07-10T12:00:40.267249500Z"
    }
   },
   "id": "aa366bf49da337dc",
   "execution_count": 1
  },
  {
   "cell_type": "code",
   "outputs": [],
   "source": [],
   "metadata": {
    "collapsed": false
   },
   "id": "8d2c8d98f55db92a"
  },
  {
   "cell_type": "markdown",
   "source": [],
   "metadata": {
    "collapsed": false
   },
   "id": "4322f8ffc3180b9d"
  },
  {
   "cell_type": "code",
   "outputs": [],
   "source": [
    "# "
   ],
   "metadata": {
    "collapsed": false
   },
   "id": "fba855825c630c7a"
  },
  {
   "cell_type": "code",
   "outputs": [
    {
     "name": "stdout",
     "output_type": "stream",
     "text": [
      "[*********************100%%**********************]  1 of 1 completed\n",
      "[*********************100%%**********************]  1 of 1 completed\n",
      "[*********************100%%**********************]  1 of 1 completed\n",
      "[*********************100%%**********************]  1 of 1 completed\n",
      "[*********************100%%**********************]  1 of 1 completed\n",
      "[*********************100%%**********************]  1 of 1 completed\n",
      "[*********************100%%**********************]  1 of 1 completed\n",
      "[*********************100%%**********************]  1 of 1 completed\n",
      "[*********************100%%**********************]  1 of 1 completed\n",
      "[*********************100%%**********************]  1 of 1 completed\n",
      "[*********************100%%**********************]  1 of 1 completed\n"
     ]
    }
   ],
   "source": [
    "# Get the list of Vanguard ETFs\n",
    "vanguard_etfs = [\n",
    "    \"VOO\",  # Vanguard S&P 500 ETF\n",
    "    \"VTI\",  # Vanguard Total Stock Market ETF\n",
    "    \"BND\",  # Vanguard Total Bond Market ETF\n",
    "    \"VNQ\",  # Vanguard Real Estate ETF\n",
    "    \"VEA\",  # Vanguard FTSE Developed Markets ETF\n",
    "    \"VWO\",  # Vanguard FTSE Emerging Markets ETF\n",
    "    \"VO\",   # Vanguard Mid-Cap ETF\n",
    "    \"VB\",   # Vanguard Small-Cap ETF\n",
    "    \"VT\",   # Vanguard Total World Stock ETF\n",
    "    \"VUG\",  # Vanguard Growth ETF\n",
    "    \"VYM\",  # Vanguard High Dividend Yield ETF\n",
    "]\n",
    "\n",
    "# Calculate the 10-year return for each ETF\n",
    "end_date = datetime.now()\n",
    "start_date = end_date.replace(year=end_date.year - 10)\n",
    "\n",
    "etfs = []\n",
    "# columns rem\n",
    "\n",
    "# get data for every etf \n",
    "for syb in vanguard_etfs:\n",
    "    data = yf.download(syb, start=start_date, end=end_date)\n",
    "    data.to_csv(f\"data/yfdata/{syb}.csv\")\n",
    "    etfs.append(data)"
   ],
   "metadata": {
    "collapsed": false,
    "ExecuteTime": {
     "end_time": "2024-07-10T12:09:14.276686500Z",
     "start_time": "2024-07-10T12:08:44.298848600Z"
    }
   },
   "id": "6f9f41793dc12c29",
   "execution_count": 2
  },
  {
   "cell_type": "code",
   "outputs": [
    {
     "data": {
      "text/plain": "                  Open        High         Low       Close   Adj Close  \\\nDate                                                                     \n2014-07-10  179.009995  180.470001  178.839996  180.029999  150.864349   \n2014-07-11  179.940002  180.360001  179.509995  180.270004  151.065491   \n2014-07-14  181.199997  181.410004  181.020004  181.160004  151.811295   \n2014-07-15  181.250000  181.630005  180.059998  180.850006  151.551529   \n2014-07-16  181.649994  181.759995  181.009995  181.539993  152.129684   \n...                ...         ...         ...         ...         ...   \n2024-07-02  499.690002  504.609985  499.609985  504.529999  504.529999   \n2024-07-03  504.220001  507.140015  504.220001  506.809998  506.809998   \n2024-07-05  507.130005  510.100006  506.489990  509.839996  509.839996   \n2024-07-08  510.500000  511.209991  509.320007  510.329987  510.329987   \n2024-07-09  511.209991  512.010010  510.540009  510.890015  510.890015   \n\n             Volume         Avg  \nDate                             \n2014-07-10   614600  179.654999  \n2014-07-11   520400  179.934998  \n2014-07-14   493100  181.215004  \n2014-07-15  1207000  180.845001  \n2014-07-16   539400  181.384995  \n...             ...         ...  \n2024-07-02  4210100  502.109985  \n2024-07-03  2131100  505.680008  \n2024-07-05  3156900  508.294998  \n2024-07-08  3143400  510.264999  \n2024-07-09  3140600  511.275009  \n\n[2516 rows x 7 columns]",
      "text/html": "<div>\n<style scoped>\n    .dataframe tbody tr th:only-of-type {\n        vertical-align: middle;\n    }\n\n    .dataframe tbody tr th {\n        vertical-align: top;\n    }\n\n    .dataframe thead th {\n        text-align: right;\n    }\n</style>\n<table border=\"1\" class=\"dataframe\">\n  <thead>\n    <tr style=\"text-align: right;\">\n      <th></th>\n      <th>Open</th>\n      <th>High</th>\n      <th>Low</th>\n      <th>Close</th>\n      <th>Adj Close</th>\n      <th>Volume</th>\n      <th>Avg</th>\n    </tr>\n    <tr>\n      <th>Date</th>\n      <th></th>\n      <th></th>\n      <th></th>\n      <th></th>\n      <th></th>\n      <th></th>\n      <th></th>\n    </tr>\n  </thead>\n  <tbody>\n    <tr>\n      <th>2014-07-10</th>\n      <td>179.009995</td>\n      <td>180.470001</td>\n      <td>178.839996</td>\n      <td>180.029999</td>\n      <td>150.864349</td>\n      <td>614600</td>\n      <td>179.654999</td>\n    </tr>\n    <tr>\n      <th>2014-07-11</th>\n      <td>179.940002</td>\n      <td>180.360001</td>\n      <td>179.509995</td>\n      <td>180.270004</td>\n      <td>151.065491</td>\n      <td>520400</td>\n      <td>179.934998</td>\n    </tr>\n    <tr>\n      <th>2014-07-14</th>\n      <td>181.199997</td>\n      <td>181.410004</td>\n      <td>181.020004</td>\n      <td>181.160004</td>\n      <td>151.811295</td>\n      <td>493100</td>\n      <td>181.215004</td>\n    </tr>\n    <tr>\n      <th>2014-07-15</th>\n      <td>181.250000</td>\n      <td>181.630005</td>\n      <td>180.059998</td>\n      <td>180.850006</td>\n      <td>151.551529</td>\n      <td>1207000</td>\n      <td>180.845001</td>\n    </tr>\n    <tr>\n      <th>2014-07-16</th>\n      <td>181.649994</td>\n      <td>181.759995</td>\n      <td>181.009995</td>\n      <td>181.539993</td>\n      <td>152.129684</td>\n      <td>539400</td>\n      <td>181.384995</td>\n    </tr>\n    <tr>\n      <th>...</th>\n      <td>...</td>\n      <td>...</td>\n      <td>...</td>\n      <td>...</td>\n      <td>...</td>\n      <td>...</td>\n      <td>...</td>\n    </tr>\n    <tr>\n      <th>2024-07-02</th>\n      <td>499.690002</td>\n      <td>504.609985</td>\n      <td>499.609985</td>\n      <td>504.529999</td>\n      <td>504.529999</td>\n      <td>4210100</td>\n      <td>502.109985</td>\n    </tr>\n    <tr>\n      <th>2024-07-03</th>\n      <td>504.220001</td>\n      <td>507.140015</td>\n      <td>504.220001</td>\n      <td>506.809998</td>\n      <td>506.809998</td>\n      <td>2131100</td>\n      <td>505.680008</td>\n    </tr>\n    <tr>\n      <th>2024-07-05</th>\n      <td>507.130005</td>\n      <td>510.100006</td>\n      <td>506.489990</td>\n      <td>509.839996</td>\n      <td>509.839996</td>\n      <td>3156900</td>\n      <td>508.294998</td>\n    </tr>\n    <tr>\n      <th>2024-07-08</th>\n      <td>510.500000</td>\n      <td>511.209991</td>\n      <td>509.320007</td>\n      <td>510.329987</td>\n      <td>510.329987</td>\n      <td>3143400</td>\n      <td>510.264999</td>\n    </tr>\n    <tr>\n      <th>2024-07-09</th>\n      <td>511.209991</td>\n      <td>512.010010</td>\n      <td>510.540009</td>\n      <td>510.890015</td>\n      <td>510.890015</td>\n      <td>3140600</td>\n      <td>511.275009</td>\n    </tr>\n  </tbody>\n</table>\n<p>2516 rows × 7 columns</p>\n</div>"
     },
     "execution_count": 29,
     "metadata": {},
     "output_type": "execute_result"
    }
   ],
   "source": [
    "\n",
    "temp = etfs[0]\n",
    "temp['mean'] = temp[['High', 'Low']].mean(axis=1)\n",
    "temp"
   ],
   "metadata": {
    "collapsed": false,
    "ExecuteTime": {
     "end_time": "2024-07-10T11:47:11.965495800Z",
     "start_time": "2024-07-10T11:47:11.903986800Z"
    }
   },
   "id": "2706f02bf9407e4f",
   "execution_count": 29
  },
  {
   "cell_type": "code",
   "outputs": [
    {
     "name": "stdout",
     "output_type": "stream",
     "text": [
      "[*********************100%%**********************]  1 of 1 completed\n"
     ]
    },
    {
     "name": "stderr",
     "output_type": "stream",
     "text": [
      "Feature Extraction: 100%|██████████| 6/6 [00:29<00:00,  4.91s/it]\n"
     ]
    },
    {
     "name": "stdout",
     "output_type": "stream",
     "text": [
      "                                                         Date       Open  \\\n",
      "0                                                  2020-01-02  74.059998   \n",
      "1                                                  2020-01-03  74.287498   \n",
      "2                                                  2020-01-06  73.447502   \n",
      "3                                                  2020-01-07  74.959999   \n",
      "4                                                  2020-01-08  74.290001   \n",
      "...                                                       ...        ...   \n",
      "value__permutation_entropy__dimension_5__tau_1            NaT        NaN   \n",
      "value__permutation_entropy__dimension_6__tau_1            NaT        NaN   \n",
      "value__permutation_entropy__dimension_7__tau_1            NaT        NaN   \n",
      "value__query_similarity_count__query_None__thre...        NaT        NaN   \n",
      "value__mean_n_absolute_max__number_of_maxima_7            NaT        NaN   \n",
      "\n",
      "                                                         High        Low  \\\n",
      "0                                                   75.150002  73.797501   \n",
      "1                                                   75.144997  74.125000   \n",
      "2                                                   74.989998  73.187500   \n",
      "3                                                   75.224998  74.370003   \n",
      "4                                                   76.110001  74.290001   \n",
      "...                                                       ...        ...   \n",
      "value__permutation_entropy__dimension_5__tau_1            NaN        NaN   \n",
      "value__permutation_entropy__dimension_6__tau_1            NaN        NaN   \n",
      "value__permutation_entropy__dimension_7__tau_1            NaN        NaN   \n",
      "value__query_similarity_count__query_None__thre...        NaN        NaN   \n",
      "value__mean_n_absolute_max__number_of_maxima_7            NaN        NaN   \n",
      "\n",
      "                                                        Close  Adj Close  \\\n",
      "0                                                   75.087502  72.960464   \n",
      "1                                                   74.357498  72.251129   \n",
      "2                                                   74.949997  72.826866   \n",
      "3                                                   74.597504  72.484352   \n",
      "4                                                   75.797501  73.650345   \n",
      "...                                                       ...        ...   \n",
      "value__permutation_entropy__dimension_5__tau_1            NaN        NaN   \n",
      "value__permutation_entropy__dimension_6__tau_1            NaN        NaN   \n",
      "value__permutation_entropy__dimension_7__tau_1            NaN        NaN   \n",
      "value__query_similarity_count__query_None__thre...        NaN        NaN   \n",
      "value__mean_n_absolute_max__number_of_maxima_7            NaN        NaN   \n",
      "\n",
      "                                                         Volume   Adj Close  \\\n",
      "0                                                   135480400.0         NaN   \n",
      "1                                                   146322800.0         NaN   \n",
      "2                                                   118387200.0         NaN   \n",
      "3                                                   108872000.0         NaN   \n",
      "4                                                   132079200.0         NaN   \n",
      "...                                                         ...         ...   \n",
      "value__permutation_entropy__dimension_5__tau_1              NaN    4.202993   \n",
      "value__permutation_entropy__dimension_6__tau_1              NaN    4.977041   \n",
      "value__permutation_entropy__dimension_7__tau_1              NaN    5.333282   \n",
      "value__query_similarity_count__query_None__thre...          NaN         NaN   \n",
      "value__mean_n_absolute_max__number_of_maxima_7              NaN  131.016192   \n",
      "\n",
      "                                                         Close        High  \\\n",
      "0                                                          NaN         NaN   \n",
      "1                                                          NaN         NaN   \n",
      "2                                                          NaN         NaN   \n",
      "3                                                          NaN         NaN   \n",
      "4                                                          NaN         NaN   \n",
      "...                                                        ...         ...   \n",
      "value__permutation_entropy__dimension_5__tau_1        4.202993    4.020797   \n",
      "value__permutation_entropy__dimension_6__tau_1        4.977041    4.786510   \n",
      "value__permutation_entropy__dimension_7__tau_1        5.333282    5.247211   \n",
      "value__query_similarity_count__query_None__thre...         NaN         NaN   \n",
      "value__mean_n_absolute_max__number_of_maxima_7      133.714286  136.292858   \n",
      "\n",
      "                                                           Low        Open  \\\n",
      "0                                                          NaN         NaN   \n",
      "1                                                          NaN         NaN   \n",
      "2                                                          NaN         NaN   \n",
      "3                                                          NaN         NaN   \n",
      "4                                                          NaN         NaN   \n",
      "...                                                        ...         ...   \n",
      "value__permutation_entropy__dimension_5__tau_1        3.776398    4.264954   \n",
      "value__permutation_entropy__dimension_6__tau_1        4.572677    5.016352   \n",
      "value__permutation_entropy__dimension_7__tau_1        5.023906    5.327669   \n",
      "value__query_similarity_count__query_None__thre...         NaN         NaN   \n",
      "value__mean_n_absolute_max__number_of_maxima_7      132.197141  134.887144   \n",
      "\n",
      "                                                          Volume  \n",
      "0                                                            NaN  \n",
      "1                                                            NaN  \n",
      "2                                                            NaN  \n",
      "3                                                            NaN  \n",
      "4                                                            NaN  \n",
      "...                                                          ...  \n",
      "value__permutation_entropy__dimension_5__tau_1      4.410849e+00  \n",
      "value__permutation_entropy__dimension_6__tau_1      5.175816e+00  \n",
      "value__permutation_entropy__dimension_7__tau_1      5.445532e+00  \n",
      "value__query_similarity_count__query_None__thre...           NaN  \n",
      "value__mean_n_absolute_max__number_of_maxima_7      3.827258e+08  \n",
      "\n",
      "[1036 rows x 13 columns]\n"
     ]
    }
   ],
   "source": [
    "import pandas as pd\n",
    "import yfinance as yf\n",
    "from tsfresh import extract_features\n",
    "\n",
    "# Download data\n",
    "ticker = 'AAPL'\n",
    "data = yf.download(ticker, start=\"2020-01-01\", end=\"2021-01-01\")\n",
    "\n",
    "# Reset index to get 'Date' as a column\n",
    "data.reset_index(inplace=True)\n",
    "\n",
    "# Create a long format DataFrame for each column\n",
    "long_format_data = pd.DataFrame()\n",
    "\n",
    "for col in ['Open', 'High', 'Low', 'Close', 'Adj Close', 'Volume']:\n",
    "    temp_df = data[['Date', col]].copy()\n",
    "    temp_df['id'] = col\n",
    "    temp_df.rename(columns={'Date': 'time', col: 'value'}, inplace=True)\n",
    "    long_format_data = pd.concat([long_format_data, temp_df], axis=0)\n",
    "\n",
    "# Reset index\n",
    "long_format_data.reset_index(drop=True, inplace=True)\n",
    "\n",
    "# Extract features\n",
    "extracted_features = extract_features(long_format_data, column_id='id', column_sort='time')\n",
    "\n",
    "# Transpose extracted_features so that we have one row per feature and one column per stock data column\n",
    "extracted_features_transposed = extracted_features.transpose()\n",
    "\n",
    "# Combine the extracted features with the original data\n",
    "merged_data = pd.concat([data, extracted_features_transposed], axis=1)\n",
    "\n",
    "# Display the merged data\n",
    "merged_data"
   ],
   "metadata": {
    "collapsed": false,
    "ExecuteTime": {
     "end_time": "2024-07-10T11:32:00.964892800Z",
     "start_time": "2024-07-10T11:30:05.389221200Z"
    }
   },
   "id": "7adb8b2d05623bef",
   "execution_count": 13
  },
  {
   "cell_type": "code",
   "outputs": [
    {
     "data": {
      "text/plain": "                                                         Date       Open  \\\n0                                                  2020-01-02  74.059998   \n1                                                  2020-01-03  74.287498   \n2                                                  2020-01-06  73.447502   \n3                                                  2020-01-07  74.959999   \n4                                                  2020-01-08  74.290001   \n...                                                       ...        ...   \nvalue__permutation_entropy__dimension_5__tau_1            NaT        NaN   \nvalue__permutation_entropy__dimension_6__tau_1            NaT        NaN   \nvalue__permutation_entropy__dimension_7__tau_1            NaT        NaN   \nvalue__query_similarity_count__query_None__thre...        NaT        NaN   \nvalue__mean_n_absolute_max__number_of_maxima_7            NaT        NaN   \n\n                                                         High        Low  \\\n0                                                   75.150002  73.797501   \n1                                                   75.144997  74.125000   \n2                                                   74.989998  73.187500   \n3                                                   75.224998  74.370003   \n4                                                   76.110001  74.290001   \n...                                                       ...        ...   \nvalue__permutation_entropy__dimension_5__tau_1            NaN        NaN   \nvalue__permutation_entropy__dimension_6__tau_1            NaN        NaN   \nvalue__permutation_entropy__dimension_7__tau_1            NaN        NaN   \nvalue__query_similarity_count__query_None__thre...        NaN        NaN   \nvalue__mean_n_absolute_max__number_of_maxima_7            NaN        NaN   \n\n                                                        Close  Adj Close  \\\n0                                                   75.087502  72.960464   \n1                                                   74.357498  72.251129   \n2                                                   74.949997  72.826866   \n3                                                   74.597504  72.484352   \n4                                                   75.797501  73.650345   \n...                                                       ...        ...   \nvalue__permutation_entropy__dimension_5__tau_1            NaN        NaN   \nvalue__permutation_entropy__dimension_6__tau_1            NaN        NaN   \nvalue__permutation_entropy__dimension_7__tau_1            NaN        NaN   \nvalue__query_similarity_count__query_None__thre...        NaN        NaN   \nvalue__mean_n_absolute_max__number_of_maxima_7            NaN        NaN   \n\n                                                         Volume   Adj Close  \\\n0                                                   135480400.0         NaN   \n1                                                   146322800.0         NaN   \n2                                                   118387200.0         NaN   \n3                                                   108872000.0         NaN   \n4                                                   132079200.0         NaN   \n...                                                         ...         ...   \nvalue__permutation_entropy__dimension_5__tau_1              NaN    4.202993   \nvalue__permutation_entropy__dimension_6__tau_1              NaN    4.977041   \nvalue__permutation_entropy__dimension_7__tau_1              NaN    5.333282   \nvalue__query_similarity_count__query_None__thre...          NaN         NaN   \nvalue__mean_n_absolute_max__number_of_maxima_7              NaN  131.016192   \n\n                                                         Close        High  \\\n0                                                          NaN         NaN   \n1                                                          NaN         NaN   \n2                                                          NaN         NaN   \n3                                                          NaN         NaN   \n4                                                          NaN         NaN   \n...                                                        ...         ...   \nvalue__permutation_entropy__dimension_5__tau_1        4.202993    4.020797   \nvalue__permutation_entropy__dimension_6__tau_1        4.977041    4.786510   \nvalue__permutation_entropy__dimension_7__tau_1        5.333282    5.247211   \nvalue__query_similarity_count__query_None__thre...         NaN         NaN   \nvalue__mean_n_absolute_max__number_of_maxima_7      133.714286  136.292858   \n\n                                                           Low        Open  \\\n0                                                          NaN         NaN   \n1                                                          NaN         NaN   \n2                                                          NaN         NaN   \n3                                                          NaN         NaN   \n4                                                          NaN         NaN   \n...                                                        ...         ...   \nvalue__permutation_entropy__dimension_5__tau_1        3.776398    4.264954   \nvalue__permutation_entropy__dimension_6__tau_1        4.572677    5.016352   \nvalue__permutation_entropy__dimension_7__tau_1        5.023906    5.327669   \nvalue__query_similarity_count__query_None__thre...         NaN         NaN   \nvalue__mean_n_absolute_max__number_of_maxima_7      132.197141  134.887144   \n\n                                                          Volume  \n0                                                            NaN  \n1                                                            NaN  \n2                                                            NaN  \n3                                                            NaN  \n4                                                            NaN  \n...                                                          ...  \nvalue__permutation_entropy__dimension_5__tau_1      4.410849e+00  \nvalue__permutation_entropy__dimension_6__tau_1      5.175816e+00  \nvalue__permutation_entropy__dimension_7__tau_1      5.445532e+00  \nvalue__query_similarity_count__query_None__thre...           NaN  \nvalue__mean_n_absolute_max__number_of_maxima_7      3.827258e+08  \n\n[1036 rows x 13 columns]",
      "text/html": "<div>\n<style scoped>\n    .dataframe tbody tr th:only-of-type {\n        vertical-align: middle;\n    }\n\n    .dataframe tbody tr th {\n        vertical-align: top;\n    }\n\n    .dataframe thead th {\n        text-align: right;\n    }\n</style>\n<table border=\"1\" class=\"dataframe\">\n  <thead>\n    <tr style=\"text-align: right;\">\n      <th></th>\n      <th>Date</th>\n      <th>Open</th>\n      <th>High</th>\n      <th>Low</th>\n      <th>Close</th>\n      <th>Adj Close</th>\n      <th>Volume</th>\n      <th>Adj Close</th>\n      <th>Close</th>\n      <th>High</th>\n      <th>Low</th>\n      <th>Open</th>\n      <th>Volume</th>\n    </tr>\n  </thead>\n  <tbody>\n    <tr>\n      <th>0</th>\n      <td>2020-01-02</td>\n      <td>74.059998</td>\n      <td>75.150002</td>\n      <td>73.797501</td>\n      <td>75.087502</td>\n      <td>72.960464</td>\n      <td>135480400.0</td>\n      <td>NaN</td>\n      <td>NaN</td>\n      <td>NaN</td>\n      <td>NaN</td>\n      <td>NaN</td>\n      <td>NaN</td>\n    </tr>\n    <tr>\n      <th>1</th>\n      <td>2020-01-03</td>\n      <td>74.287498</td>\n      <td>75.144997</td>\n      <td>74.125000</td>\n      <td>74.357498</td>\n      <td>72.251129</td>\n      <td>146322800.0</td>\n      <td>NaN</td>\n      <td>NaN</td>\n      <td>NaN</td>\n      <td>NaN</td>\n      <td>NaN</td>\n      <td>NaN</td>\n    </tr>\n    <tr>\n      <th>2</th>\n      <td>2020-01-06</td>\n      <td>73.447502</td>\n      <td>74.989998</td>\n      <td>73.187500</td>\n      <td>74.949997</td>\n      <td>72.826866</td>\n      <td>118387200.0</td>\n      <td>NaN</td>\n      <td>NaN</td>\n      <td>NaN</td>\n      <td>NaN</td>\n      <td>NaN</td>\n      <td>NaN</td>\n    </tr>\n    <tr>\n      <th>3</th>\n      <td>2020-01-07</td>\n      <td>74.959999</td>\n      <td>75.224998</td>\n      <td>74.370003</td>\n      <td>74.597504</td>\n      <td>72.484352</td>\n      <td>108872000.0</td>\n      <td>NaN</td>\n      <td>NaN</td>\n      <td>NaN</td>\n      <td>NaN</td>\n      <td>NaN</td>\n      <td>NaN</td>\n    </tr>\n    <tr>\n      <th>4</th>\n      <td>2020-01-08</td>\n      <td>74.290001</td>\n      <td>76.110001</td>\n      <td>74.290001</td>\n      <td>75.797501</td>\n      <td>73.650345</td>\n      <td>132079200.0</td>\n      <td>NaN</td>\n      <td>NaN</td>\n      <td>NaN</td>\n      <td>NaN</td>\n      <td>NaN</td>\n      <td>NaN</td>\n    </tr>\n    <tr>\n      <th>...</th>\n      <td>...</td>\n      <td>...</td>\n      <td>...</td>\n      <td>...</td>\n      <td>...</td>\n      <td>...</td>\n      <td>...</td>\n      <td>...</td>\n      <td>...</td>\n      <td>...</td>\n      <td>...</td>\n      <td>...</td>\n      <td>...</td>\n    </tr>\n    <tr>\n      <th>value__permutation_entropy__dimension_5__tau_1</th>\n      <td>NaT</td>\n      <td>NaN</td>\n      <td>NaN</td>\n      <td>NaN</td>\n      <td>NaN</td>\n      <td>NaN</td>\n      <td>NaN</td>\n      <td>4.202993</td>\n      <td>4.202993</td>\n      <td>4.020797</td>\n      <td>3.776398</td>\n      <td>4.264954</td>\n      <td>4.410849e+00</td>\n    </tr>\n    <tr>\n      <th>value__permutation_entropy__dimension_6__tau_1</th>\n      <td>NaT</td>\n      <td>NaN</td>\n      <td>NaN</td>\n      <td>NaN</td>\n      <td>NaN</td>\n      <td>NaN</td>\n      <td>NaN</td>\n      <td>4.977041</td>\n      <td>4.977041</td>\n      <td>4.786510</td>\n      <td>4.572677</td>\n      <td>5.016352</td>\n      <td>5.175816e+00</td>\n    </tr>\n    <tr>\n      <th>value__permutation_entropy__dimension_7__tau_1</th>\n      <td>NaT</td>\n      <td>NaN</td>\n      <td>NaN</td>\n      <td>NaN</td>\n      <td>NaN</td>\n      <td>NaN</td>\n      <td>NaN</td>\n      <td>5.333282</td>\n      <td>5.333282</td>\n      <td>5.247211</td>\n      <td>5.023906</td>\n      <td>5.327669</td>\n      <td>5.445532e+00</td>\n    </tr>\n    <tr>\n      <th>value__query_similarity_count__query_None__threshold_0.0</th>\n      <td>NaT</td>\n      <td>NaN</td>\n      <td>NaN</td>\n      <td>NaN</td>\n      <td>NaN</td>\n      <td>NaN</td>\n      <td>NaN</td>\n      <td>NaN</td>\n      <td>NaN</td>\n      <td>NaN</td>\n      <td>NaN</td>\n      <td>NaN</td>\n      <td>NaN</td>\n    </tr>\n    <tr>\n      <th>value__mean_n_absolute_max__number_of_maxima_7</th>\n      <td>NaT</td>\n      <td>NaN</td>\n      <td>NaN</td>\n      <td>NaN</td>\n      <td>NaN</td>\n      <td>NaN</td>\n      <td>NaN</td>\n      <td>131.016192</td>\n      <td>133.714286</td>\n      <td>136.292858</td>\n      <td>132.197141</td>\n      <td>134.887144</td>\n      <td>3.827258e+08</td>\n    </tr>\n  </tbody>\n</table>\n<p>1036 rows × 13 columns</p>\n</div>"
     },
     "execution_count": 14,
     "metadata": {},
     "output_type": "execute_result"
    }
   ],
   "source": [],
   "metadata": {
    "collapsed": false,
    "ExecuteTime": {
     "end_time": "2024-07-10T11:32:10.858905800Z",
     "start_time": "2024-07-10T11:32:10.809663700Z"
    }
   },
   "id": "fbf3c10043fe127d",
   "execution_count": 14
  }
 ],
 "metadata": {
  "kernelspec": {
   "display_name": "Python 3",
   "language": "python",
   "name": "python3"
  },
  "language_info": {
   "codemirror_mode": {
    "name": "ipython",
    "version": 2
   },
   "file_extension": ".py",
   "mimetype": "text/x-python",
   "name": "python",
   "nbconvert_exporter": "python",
   "pygments_lexer": "ipython2",
   "version": "2.7.6"
  }
 },
 "nbformat": 4,
 "nbformat_minor": 5
}
